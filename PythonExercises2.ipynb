{
 "cells": [
  {
   "cell_type": "markdown",
   "metadata": {},
   "source": [
    "# Python Exercises - Session 2: Built-in data structures\n",
    "The exercises below are organized to match [A Whirlwind Tour of Python (VanderPlas)](https://jakevdp.github.io/WhirlwindTourOfPython/). Specific pages are referenced in the various sections. These are designed to run using Python 3.6.\n",
    "\n",
    "Follow the guidelines below. Where necessary replace the ellipses (`...`) with the appropriate code in the code blocks, the run the code by pressing ctrl-enter. Be sure to save your document before closing. "
   ]
  },
  {
   "cell_type": "markdown",
   "metadata": {},
   "source": [
    "### 2.1. Lists"
   ]
  },
  {
   "cell_type": "markdown",
   "metadata": {},
   "source": [
    "**2.1a.** Create a _list_ variable named `myRasters` containing the following 3 strings: `DEM`, `slope`, `aspect`, and then print the contents of the list."
   ]
  },
  {
   "cell_type": "code",
   "execution_count": 1,
   "metadata": {},
   "outputs": [
    {
     "name": "stdout",
     "output_type": "stream",
     "text": [
      "['DEM', 'slope', 'aspect']\n"
     ]
    }
   ],
   "source": [
    "myRasters = [\"DEM\", \"slope\", \"aspect\"]\n",
    "print(myRasters)"
   ]
  },
  {
   "cell_type": "markdown",
   "metadata": {},
   "source": [
    "**2.1b.** Use the `len` function on the `myRasters` list object to reveal how many items on the list."
   ]
  },
  {
   "cell_type": "code",
   "execution_count": 2,
   "metadata": {},
   "outputs": [
    {
     "data": {
      "text/plain": [
       "3"
      ]
     },
     "execution_count": 2,
     "metadata": {},
     "output_type": "execute_result"
    }
   ],
   "source": [
    "len(myRasters)"
   ]
  },
  {
   "cell_type": "markdown",
   "metadata": {},
   "source": [
    "**2.1c.** Update `myRasters` list to include a new item, the string `hillshade`, and then print the contents of the list. (*Tip: use the tab-completion feature to see all the methods associated with the `myRasters` object; just hit the tab key after the period following myRasters...*)"
   ]
  },
  {
   "cell_type": "code",
   "execution_count": 3,
   "metadata": {},
   "outputs": [
    {
     "name": "stdout",
     "output_type": "stream",
     "text": [
      "['DEM', 'slope', 'aspect', 'hillshade']\n"
     ]
    }
   ],
   "source": [
    "myRasters.append(\"hillshade\")\n",
    "print(myRasters)"
   ]
  },
  {
   "cell_type": "markdown",
   "metadata": {},
   "source": [
    "**2.1d.** Use the `sort` function to sort the myRasters list alphabetically and print the output."
   ]
  },
  {
   "cell_type": "code",
   "execution_count": 6,
   "metadata": {},
   "outputs": [
    {
     "name": "stdout",
     "output_type": "stream",
     "text": [
      "['DEM', 'aspect', 'hillshade', 'slope']\n"
     ]
    }
   ],
   "source": [
    "myRasters.sort()\n",
    "print(myRasters)"
   ]
  },
  {
   "cell_type": "markdown",
   "metadata": {},
   "source": [
    "**2.1e.** Sort the myRasters list in <u>reverse</u> order and print the output, again using the sort function.  \n",
    "*Tip: place a `?` after the sort command, omitting the parentheses, to display a bit of help on the sort method...*"
   ]
  },
  {
   "cell_type": "code",
   "execution_count": 11,
   "metadata": {},
   "outputs": [
    {
     "name": "stdout",
     "output_type": "stream",
     "text": [
      "['slope', 'hillshade', 'aspect', 'DEM']\n"
     ]
    }
   ],
   "source": [
    "myRasters.sort(reverse=True)\n",
    "print(myRasters)"
   ]
  },
  {
   "cell_type": "markdown",
   "metadata": {},
   "source": [
    "**2.1f.** Remove `aspect` from the `myRasters` list using the `remove` method."
   ]
  },
  {
   "cell_type": "code",
   "execution_count": 12,
   "metadata": {},
   "outputs": [
    {
     "name": "stdout",
     "output_type": "stream",
     "text": [
      "['slope', 'hillshade', 'DEM']\n"
     ]
    }
   ],
   "source": [
    "myRasters.remove(\"aspect\")\n",
    "print(myRasters)"
   ]
  },
  {
   "cell_type": "markdown",
   "metadata": {},
   "source": [
    "**2.1g.** Use the `index` function to print the index value of the `DEM` item in the `myRasters` list."
   ]
  },
  {
   "cell_type": "code",
   "execution_count": 13,
   "metadata": {},
   "outputs": [
    {
     "name": "stdout",
     "output_type": "stream",
     "text": [
      "2\n"
     ]
    }
   ],
   "source": [
    "print(myRasters.index(\"DEM\"))"
   ]
  },
  {
   "cell_type": "markdown",
   "metadata": {},
   "source": [
    "**2.1h.** Set the variable `theRaster` to the first item in the `myRasters` list and print the value of `theRaster`."
   ]
  },
  {
   "cell_type": "code",
   "execution_count": 14,
   "metadata": {},
   "outputs": [
    {
     "name": "stdout",
     "output_type": "stream",
     "text": [
      "slope\n"
     ]
    }
   ],
   "source": [
    "theRaster = myRasters[0]\n",
    "print(theRaster)"
   ]
  },
  {
   "cell_type": "markdown",
   "metadata": {},
   "source": [
    "**2.1i.** Print the last 2 items in the `myRasters` list"
   ]
  },
  {
   "cell_type": "code",
   "execution_count": 18,
   "metadata": {},
   "outputs": [
    {
     "name": "stdout",
     "output_type": "stream",
     "text": [
      "['hillshade', 'DEM']\n"
     ]
    }
   ],
   "source": [
    "print(myRasters[-2:])"
   ]
  },
  {
   "cell_type": "markdown",
   "metadata": {},
   "source": [
    "---\n",
    "### 2.2. Tuples"
   ]
  },
  {
   "cell_type": "markdown",
   "metadata": {},
   "source": [
    "**2.2a.** Create a tuple named `myVectors` containing the following 3 strings: `rivers`, `rails`, `streets`, and then print the contents of the tuple."
   ]
  },
  {
   "cell_type": "code",
   "execution_count": 19,
   "metadata": {},
   "outputs": [
    {
     "name": "stdout",
     "output_type": "stream",
     "text": [
      "('rivers', 'rails', 'streets')\n"
     ]
    }
   ],
   "source": [
    "myVectors = (\"rivers\", \"rails\", \"streets\")\n",
    "print(myVectors)"
   ]
  },
  {
   "cell_type": "markdown",
   "metadata": {},
   "source": [
    "**2.2b.** Print the 3rd element in the `myVectors` tuple (i.e. \"streets\")"
   ]
  },
  {
   "cell_type": "code",
   "execution_count": 21,
   "metadata": {},
   "outputs": [
    {
     "name": "stdout",
     "output_type": "stream",
     "text": [
      "streets\n"
     ]
    }
   ],
   "source": [
    "print(myVectors[2])"
   ]
  },
  {
   "cell_type": "markdown",
   "metadata": {},
   "source": [
    "**2.2c.** Create a second tuple named `myOtherVectors`, holding the strings `trails` and `bike paths`."
   ]
  },
  {
   "cell_type": "code",
   "execution_count": 22,
   "metadata": {},
   "outputs": [
    {
     "name": "stdout",
     "output_type": "stream",
     "text": [
      "('trails', 'bike paths')\n"
     ]
    }
   ],
   "source": [
    "myOtherVectors = (\"trails\", \"bike paths\")\n",
    "print(myOtherVectors)"
   ]
  },
  {
   "cell_type": "markdown",
   "metadata": {},
   "source": [
    "**2.2d.** Update the `myVectors` tuple so that it also included the elements in the `myOtherVectors` tuple and print the results."
   ]
  },
  {
   "cell_type": "code",
   "execution_count": 23,
   "metadata": {},
   "outputs": [
    {
     "name": "stdout",
     "output_type": "stream",
     "text": [
      "('rivers', 'rails', 'streets', 'trails', 'bike paths')\n"
     ]
    }
   ],
   "source": [
    "myVectors = myVectors + myOtherVectors\n",
    "print(myVectors)"
   ]
  },
  {
   "cell_type": "markdown",
   "metadata": {},
   "source": [
    "---\n",
    "### 2.3. Dictionaries"
   ]
  },
  {
   "cell_type": "markdown",
   "metadata": {},
   "source": [
    "**2.3a.** Run the following to generate a dictionary called `inventory`"
   ]
  },
  {
   "cell_type": "code",
   "execution_count": 24,
   "metadata": {},
   "outputs": [],
   "source": [
    "inventory = {\n",
    "    'gold' : 500,\n",
    "    'pouch' : ['flint', 'twine', 'gemstone'],\n",
    "    'backpack' : ['xylophone','dagger', 'bedroll','bread loaf']\n",
    "}"
   ]
  },
  {
   "cell_type": "markdown",
   "metadata": {},
   "source": [
    "**2.3b.** Write a line of code to print the value corresponding to the `pouch` key. "
   ]
  },
  {
   "cell_type": "code",
   "execution_count": 26,
   "metadata": {},
   "outputs": [
    {
     "name": "stdout",
     "output_type": "stream",
     "text": [
      "['flint', 'twine', 'gemstone']\n"
     ]
    }
   ],
   "source": [
    "print(inventory[\"pouch\"])"
   ]
  },
  {
   "cell_type": "markdown",
   "metadata": {},
   "source": [
    "**2.3c.** Add a new item to the dictionary. Set it's **key** to `clothes` and it's **value** to a list containing these three items: `hat`,`tunic`,`boots`"
   ]
  },
  {
   "cell_type": "code",
   "execution_count": 27,
   "metadata": {},
   "outputs": [],
   "source": [
    "inventory[\"clothes\"] = [\"hat\", \"tunic\", \"boots\"]"
   ]
  },
  {
   "cell_type": "markdown",
   "metadata": {},
   "source": [
    "**2.3d.** Print all the _keys_ in the `inventory` dictionary"
   ]
  },
  {
   "cell_type": "code",
   "execution_count": 29,
   "metadata": {},
   "outputs": [
    {
     "name": "stdout",
     "output_type": "stream",
     "text": [
      "dict_keys(['gold', 'pouch', 'backpack', 'clothes'])\n"
     ]
    }
   ],
   "source": [
    "print(inventory.keys())"
   ]
  },
  {
   "cell_type": "markdown",
   "metadata": {},
   "source": [
    "**2.3e.** Print all the _values_ in the `inventory` dictionary"
   ]
  },
  {
   "cell_type": "code",
   "execution_count": 30,
   "metadata": {},
   "outputs": [
    {
     "name": "stdout",
     "output_type": "stream",
     "text": [
      "dict_values([500, ['flint', 'twine', 'gemstone'], ['xylophone', 'dagger', 'bedroll', 'bread loaf'], ['hat', 'tunic', 'boots']])\n"
     ]
    }
   ],
   "source": [
    "print(inventory.values())"
   ]
  },
  {
   "cell_type": "markdown",
   "metadata": {},
   "source": [
    "**2.3f.** [Challenge!] Extract all the _items_ in the `inventory` dictionary to a new variable named \"`the_items`\". Reveal what type of object this variable is."
   ]
  },
  {
   "cell_type": "code",
   "execution_count": 33,
   "metadata": {},
   "outputs": [
    {
     "name": "stdout",
     "output_type": "stream",
     "text": [
      "<class 'dict_items'>\n"
     ]
    }
   ],
   "source": [
    "the_items = inventory.items()\n",
    "print(type(the_items))"
   ]
  },
  {
   "cell_type": "markdown",
   "metadata": {},
   "source": [
    "**2.3g.** [Challenge, part 2] Re-cast the `the_items` object into a _list_ object named \"`the_items_list`\", and print the third item in this list. \n"
   ]
  },
  {
   "cell_type": "code",
   "execution_count": 34,
   "metadata": {},
   "outputs": [
    {
     "name": "stdout",
     "output_type": "stream",
     "text": [
      "('backpack', ['xylophone', 'dagger', 'bedroll', 'bread loaf'])\n"
     ]
    }
   ],
   "source": [
    "the_items_list = list(the_items)\n",
    "print(the_items_list[2])"
   ]
  },
  {
   "cell_type": "markdown",
   "metadata": {},
   "source": [
    "---\n",
    "### 2.4. Sets"
   ]
  },
  {
   "cell_type": "markdown",
   "metadata": {
    "collapsed": true
   },
   "source": [
    "**2.4a.** Create a set variable named `redFruit` with members `strawberry`, `apple`, `plum`, and `raspberry`. Then, print the set. "
   ]
  },
  {
   "cell_type": "code",
   "execution_count": 35,
   "metadata": {},
   "outputs": [
    {
     "name": "stdout",
     "output_type": "stream",
     "text": [
      "{'raspberry', 'plum', 'strawberry', 'apple'}\n"
     ]
    }
   ],
   "source": [
    "redFruit = {\"strawberry\", \"apple\", \"plum\", \"raspberry\"}\n",
    "print(redFruit)"
   ]
  },
  {
   "cell_type": "markdown",
   "metadata": {},
   "source": [
    "**2.4b.** Add `tomato` to the `redFruit` list, and print the set's contents."
   ]
  },
  {
   "cell_type": "code",
   "execution_count": 36,
   "metadata": {},
   "outputs": [
    {
     "name": "stdout",
     "output_type": "stream",
     "text": [
      "{'tomato', 'strawberry', 'apple', 'plum', 'raspberry'}\n"
     ]
    }
   ],
   "source": [
    "redFruit.add(\"tomato\")\n",
    "print(redFruit)"
   ]
  },
  {
   "cell_type": "markdown",
   "metadata": {},
   "source": [
    "**2.4c.** Add another instance of `tomato` to the set and print its contents."
   ]
  },
  {
   "cell_type": "code",
   "execution_count": 37,
   "metadata": {},
   "outputs": [
    {
     "name": "stdout",
     "output_type": "stream",
     "text": [
      "{'tomato', 'strawberry', 'apple', 'plum', 'raspberry'}\n"
     ]
    }
   ],
   "source": [
    "redFruit.add(\"tomato\")\n",
    "print(redFruit)"
   ]
  },
  {
   "cell_type": "markdown",
   "metadata": {},
   "source": [
    "**2.4d.** Create a set called `pittedFruit` with members `peach`, `plum`, `nectarine`, and `avocado`."
   ]
  },
  {
   "cell_type": "code",
   "execution_count": 38,
   "metadata": {},
   "outputs": [
    {
     "name": "stdout",
     "output_type": "stream",
     "text": [
      "{'plum', 'avocado', 'peach', 'nectarine'}\n"
     ]
    }
   ],
   "source": [
    "pittedFruit = {\"peach\", \"plum\", \"nectarine\", \"avocado\"}\n",
    "print(pittedFruit)"
   ]
  },
  {
   "cell_type": "markdown",
   "metadata": {},
   "source": [
    "**2.4e.** Print the *intersection* of the `redFruit` and `pittedFruit` sets."
   ]
  },
  {
   "cell_type": "code",
   "execution_count": 39,
   "metadata": {},
   "outputs": [
    {
     "name": "stdout",
     "output_type": "stream",
     "text": [
      "{'plum'}\n"
     ]
    }
   ],
   "source": [
    "print(redFruit.intersection(pittedFruit))"
   ]
  },
  {
   "cell_type": "markdown",
   "metadata": {},
   "source": [
    "**2.4f.** Print the *symmetric difference* of the two sets"
   ]
  },
  {
   "cell_type": "code",
   "execution_count": 40,
   "metadata": {},
   "outputs": [
    {
     "name": "stdout",
     "output_type": "stream",
     "text": [
      "{'tomato', 'strawberry', 'apple', 'avocado', 'raspberry', 'peach', 'nectarine'}\n"
     ]
    }
   ],
   "source": [
    "print(redFruit.symmetric_difference(pittedFruit))"
   ]
  },
  {
   "cell_type": "markdown",
   "metadata": {},
   "source": [
    "---\n",
    "### 2.5 More on Strings"
   ]
  },
  {
   "cell_type": "markdown",
   "metadata": {},
   "source": [
    "**2.5a.** Use combinations of `'` and `\"` along with Python escaping character (\"`\\`\") to print the following:<br>\n",
    " `This is a Python string`<br>\n",
    " `This is John's Python string`<br>\n",
    " `This is a string that says \"Hey!\"`<br>\n",
    " `This is John's Python string that says \"Hey!\"`<br>"
   ]
  },
  {
   "cell_type": "code",
   "execution_count": 44,
   "metadata": {},
   "outputs": [
    {
     "name": "stdout",
     "output_type": "stream",
     "text": [
      "This is a Python string\n",
      "This is John's Python string\n",
      "This is a string says 'Hey!' \n",
      "This is John's Python string that says 'Hey!' \n"
     ]
    }
   ],
   "source": [
    "print(\"This is a Python string\")\n",
    "print('This is John\\'s Python string')\n",
    "print(\"This is a string says 'Hey!' \")\n",
    "print(\"This is John's Python string that says 'Hey!' \")"
   ]
  },
  {
   "cell_type": "markdown",
   "metadata": {},
   "source": [
    "**2.5b.** Insert the Python escaping character (\"`\\`\") followed by `n`, `t`, or `r` in the string below. What do these do when the string is printed?"
   ]
  },
  {
   "cell_type": "code",
   "execution_count": 48,
   "metadata": {},
   "outputs": [
    {
     "name": "stdout",
     "output_type": "stream",
     "text": [
      "Show\n",
      "me what Python's escaping character does.\n",
      "Show me what Python's escaping\tcharacter does.\n",
      "Show me what Python's escaping character\r",
      "does.\n"
     ]
    }
   ],
   "source": [
    "print(\"Show\\nme what Python's escaping character does.\")\n",
    "print(\"Show me what Python's escaping\\tcharacter does.\")\n",
    "print(\"Show me what Python's escaping character\\rdoes.\")\n"
   ]
  },
  {
   "cell_type": "markdown",
   "metadata": {},
   "source": [
    "**2.5c.** Use string formatting to insert the variables `city` and `population` into a statement that prints:<br>\n",
    "```\n",
    "The city of Manhattan has a population of 55000 people.\n",
    "```"
   ]
  },
  {
   "cell_type": "code",
   "execution_count": 50,
   "metadata": {},
   "outputs": [
    {
     "name": "stdout",
     "output_type": "stream",
     "text": [
      "The city of Manhattan has a population of 55000 people\n"
     ]
    }
   ],
   "source": [
    "city = \"Manhattan\"\n",
    "population = \"55000 people\"\n",
    "print(f\"The city of {city} has a population of {population}\")"
   ]
  },
  {
   "cell_type": "markdown",
   "metadata": {},
   "source": [
    "**2.5d** Repeat the task above, but extract values of the list to report Wichita's population. Bonus points if you can fix the capitalization so the city name is not in all capitals..."
   ]
  },
  {
   "cell_type": "code",
   "execution_count": 51,
   "metadata": {},
   "outputs": [
    {
     "name": "stdout",
     "output_type": "stream",
     "text": [
      "The city of Wichita has a population of 396000 people\n"
     ]
    }
   ],
   "source": [
    "cities = ('MANHATTAN','WICHITA','HAYS', 'SALINA')\n",
    "populations = (55000, 396000, 21000, 46500)\n",
    "\n",
    "index = cities.index(\"WICHITA\")\n",
    "city = cities[index].capitalize()\n",
    "population = populations[index]\n",
    "print(f\"The city of {city} has a population of {population} people\")"
   ]
  },
  {
   "cell_type": "code",
   "execution_count": null,
   "metadata": {},
   "outputs": [],
   "source": []
  }
 ],
 "metadata": {
  "kernelspec": {
   "display_name": "Python 3 (ipykernel)",
   "language": "python",
   "name": "python3"
  },
  "language_info": {
   "codemirror_mode": {
    "name": "ipython",
    "version": 3
   },
   "file_extension": ".py",
   "mimetype": "text/x-python",
   "name": "python",
   "nbconvert_exporter": "python",
   "pygments_lexer": "ipython3",
   "version": "3.9.16"
  }
 },
 "nbformat": 4,
 "nbformat_minor": 2
}
